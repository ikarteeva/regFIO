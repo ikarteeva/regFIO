{
  "nbformat": 4,
  "nbformat_minor": 0,
  "metadata": {
    "colab": {
      "name": "Untitled7.ipynb",
      "provenance": [],
      "authorship_tag": "ABX9TyOdccsBxCqHFtAsR6KXjdJ6",
      "include_colab_link": true
    },
    "kernelspec": {
      "name": "python3",
      "display_name": "Python 3"
    },
    "language_info": {
      "name": "python"
    }
  },
  "cells": [
    {
      "cell_type": "markdown",
      "metadata": {
        "id": "view-in-github",
        "colab_type": "text"
      },
      "source": [
        "<a href=\"https://colab.research.google.com/github/ikarteeva/regFIO/blob/main/RegFio.ipynb\" target=\"_parent\"><img src=\"https://colab.research.google.com/assets/colab-badge.svg\" alt=\"Open In Colab\"/></a>"
      ]
    },
    {
      "cell_type": "code",
      "metadata": {
        "id": "lbpL9-OfOqj5"
      },
      "source": [
        "import re\n",
        "import pandas as pd\n",
        "df=pd.read_excel('start.xlsx')"
      ],
      "execution_count": null,
      "outputs": []
    },
    {
      "cell_type": "code",
      "metadata": {
        "id": "PvfpIU-KOwUS"
      },
      "source": [
        "df.head()"
      ],
      "execution_count": null,
      "outputs": []
    },
    {
      "cell_type": "code",
      "metadata": {
        "id": "PMAszqr7O7xt"
      },
      "source": [
        "regexp = re.compile(r'^.*[а-яёА-Я][\\.]\\s{0,1}[а-яёА-Я][\\.]{0,1}.*$|^.*[А-Я]{1}[а-я]{0,}\\s[А-Я]{1}[а-я]{0,}(\\s[А-Я]{1}[а-я]{0,}){0,1}.*$')\n",
        "regsplit = re.compile('\\.')\n",
        "i=0\n",
        "buffer = {}\n",
        "buffer_len = {}\n",
        "for element in df['text']:\n",
        "    listel = regsplit.split(element)\n",
        "    var1 = []\n",
        "    for element1 in listel:\n",
        "            var = re.findall(regexp, element1)\n",
        "            if(len(var)>0):\n",
        "                print(element1)\n",
        "                var1.append(element1)\n",
        "    str_prom_itog_list = []\n",
        "    for element in var1:\n",
        "        str_prom_itog = \"\".join(element)\n",
        "        str_prom_itog_list.append(str_prom_itog)\n",
        "        i+=0\n",
        "    str_itog = \" | \".join(str_prom_itog_list)\n",
        "    buffer_len[i]=len(var1)\n",
        "    buffer[i]=str_itog\n",
        "    i+=1  "
      ],
      "execution_count": null,
      "outputs": []
    },
    {
      "cell_type": "code",
      "metadata": {
        "id": "pYCBNarcO-8m"
      },
      "source": [
        "df['FIO']=buffer.values()\n",
        "df['Count']=buffer_len.values()\n",
        "df.to_excel('result.xlsx', index=False)"
      ],
      "execution_count": null,
      "outputs": []
    }
  ]
}